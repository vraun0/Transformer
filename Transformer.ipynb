{
 "cells": [
  {
   "cell_type": "code",
   "execution_count": 1,
   "id": "b170d06b-9bf1-4ffb-8aa0-d03dcece4337",
   "metadata": {},
   "outputs": [],
   "source": [
    "import torch\n",
    "import torch.nn as nn\n",
    "import math\n",
    "from datasets import load_dataset\n",
    "from transformers import AutoTokenizer, DataCollatorForSeq2Seq\n",
    "from torch.utils.data import DataLoader\n",
    "import time\n",
    "import torch.nn.functional as F\n",
    "from tqdm.auto import tqdm\n",
    "\n",
    "DEVICE = \"cuda:0\" if torch.cuda.is_available() else \"cpu\"\n",
    "D_MODEL = 256\n",
    "N_HEAD = 8\n",
    "N_LAYERS = 4\n",
    "D_FF = 1024\n",
    "DROPOUT = 0.1\n",
    "BATCH_SIZE = 64\n",
    "LEARNING_RATE = 0.0001\n",
    "EPOCHS = 70\n",
    "MAX_LEN = 128\n",
    "PATIENCE = 10"
   ]
  },
  {
   "cell_type": "code",
   "execution_count": 2,
   "id": "1bc9f51e-960f-42d5-bd08-9357c9266c6d",
   "metadata": {},
   "outputs": [],
   "source": [
    "class Transformer(nn.Module):\n",
    "    def __init__(self,vocab_size, d_model,  d_ff, n_head, n_layers, dropout):\n",
    "        super(Transformer,self).__init__()\n",
    "        self.embedding = Embeddings(d_model, vocab_size)\n",
    "        self.pos_encoder = PositionalEncoding(d_model,dropout)\n",
    "        self.encoder = Encoder(d_model, d_ff, n_head, n_layers, dropout)\n",
    "        self.decoder = Decoder(d_model,  d_ff, n_head, n_layers, dropout)\n",
    "        self.fc = nn.Linear(d_model, vocab_size)\n",
    "        self._reset_parameters()\n",
    "\n",
    "    def forward(self,inputs, outputs, src_mask, tgt_mask):\n",
    "        embedded_inputs = self.embedding(inputs)\n",
    "        embedded_outputs = self.embedding(outputs)\n",
    "        embedded_inputs = self.pos_encoder(embedded_inputs)\n",
    "        embedded_outputs = self.pos_encoder(embedded_outputs)\n",
    "        encoding = self.encoder(embedded_inputs, src_mask)\n",
    "        decoding = self.decoder(embedded_outputs, encoding, tgt_mask, src_mask)\n",
    "        return self.fc(decoding)\n",
    "        \n",
    "    def _reset_parameters(self):\n",
    "        for p in self.parameters():\n",
    "            if p.dim() > 1:\n",
    "                nn.init.xavier_uniform_(p) \n",
    "\n",
    "            \n",
    "        \n",
    "        "
   ]
  },
  {
   "cell_type": "code",
   "execution_count": 3,
   "id": "7356f8fd-464d-4a0e-a11a-f0c41e6d2553",
   "metadata": {},
   "outputs": [],
   "source": [
    "class PositionalEncoding(nn.Module):\n",
    "    def __init__(self, d_model, dropout, max_len=5000):\n",
    "        super(PositionalEncoding, self).__init__()\n",
    "        self.dropout = nn.Dropout(p = dropout)\n",
    "        position = torch.arange(max_len).unsqueeze(1).float()\n",
    "        div_term = torch.exp(torch.arange(0,d_model,2).float()*(-math.log(10000.0)/d_model))\n",
    "        pe = torch.zeros(max_len, d_model)\n",
    "        pe[:, 0::2] = torch.sin(position*div_term)\n",
    "        pe[:, 1::2] = torch.cos(position*div_term)\n",
    "        pe = pe.unsqueeze(0)\n",
    "        self.register_buffer('pe', pe)\n",
    " \n",
    "    def forward(self,x):\n",
    "        x = x + self.pe[:,:x.size(1)]\n",
    "        return self.dropout(x)"
   ]
  },
  {
   "cell_type": "code",
   "execution_count": 4,
   "id": "85a70ab5-b772-4d63-9a4c-c85963279090",
   "metadata": {},
   "outputs": [],
   "source": [
    "class Embeddings(nn.Module):\n",
    "    def __init__(self, d_model, vocab):\n",
    "        super(Embeddings, self).__init__()\n",
    "        self.lut = nn.Embedding(vocab, d_model)\n",
    "        self.d_model = d_model\n",
    "\n",
    "    def forward(self, x):\n",
    "        return self.lut(x) * math.sqrt(self.d_model)"
   ]
  },
  {
   "cell_type": "code",
   "execution_count": 5,
   "id": "39acd8f0-f334-4efc-a418-dd785212712f",
   "metadata": {},
   "outputs": [],
   "source": [
    "class Decoder(nn.Module):\n",
    "    def __init__(self, d_model,  d_ff, n_head, n_layers, dropout):\n",
    "        super(Decoder,self).__init__()\n",
    "        self.decoder_layers = nn.ModuleList([DecoderLayer(d_model, d_ff, n_head, dropout) for i in range(n_layers)])\n",
    "\n",
    "    def forward(self, x, encoder_output, tgt_mask,src_mask):\n",
    "        for layer in self.decoder_layers:\n",
    "            x = layer(x, encoder_output, tgt_mask, src_mask)\n",
    "        return x"
   ]
  },
  {
   "cell_type": "code",
   "execution_count": 6,
   "id": "d46cf0b1-1bf6-4b77-9ebb-80b2392d55d3",
   "metadata": {},
   "outputs": [],
   "source": [
    "class Encoder(nn.Module):\n",
    "    def __init__(self, d_model,  d_ff, n_head, n_layers, dropout):\n",
    "        super(Encoder,self).__init__()\n",
    "        self.encoder_layers = nn.ModuleList([EncoderLayer(d_model,  d_ff,n_head, dropout) for _ in range(n_layers)])\n",
    "\n",
    "    def forward(self, src, src_mask): \n",
    "        x = src\n",
    "        for layer in self.encoder_layers:\n",
    "            x = layer(x, src_mask)\n",
    "        return x       \n",
    "        \n",
    "        \n",
    "        "
   ]
  },
  {
   "cell_type": "code",
   "execution_count": 7,
   "id": "4e3e5c5b-c22c-415f-b8ca-f6cd7450e9d9",
   "metadata": {},
   "outputs": [],
   "source": [
    "class DecoderLayer(nn.Module):\n",
    "    def __init__(self, d_model, d_ff, n_head, dropout):\n",
    "        super(DecoderLayer, self).__init__()\n",
    "        self.self_attention = AttentionLayer(d_model, n_head, dropout)\n",
    "        self.ffn = FFNLayer(d_model, d_ff, dropout)\n",
    "        self.cross_attention = AttentionLayer(d_model, n_head, dropout)\n",
    "        \n",
    "\n",
    "    def forward(self, x,encoder_output, tgt_mask, src_mask):\n",
    "        x = self.self_attention(x,x, x, tgt_mask)\n",
    "        x = self.cross_attention(x, encoder_output, encoder_output, src_mask)\n",
    "        x = self.ffn(x)\n",
    "        return x\n",
    "        "
   ]
  },
  {
   "cell_type": "code",
   "execution_count": 8,
   "id": "6ed3cd34",
   "metadata": {},
   "outputs": [],
   "source": [
    "class EncoderLayer(nn.Module):\n",
    "    def __init__(self, d_model,  d_ff, n_head, dropout):\n",
    "        super(EncoderLayer, self).__init__()\n",
    "        self.self_attention = AttentionLayer(d_model, n_head, dropout)\n",
    "        self.ffn = FFNLayer(d_model, d_ff, dropout)\n",
    "        \n",
    "\n",
    "    def forward(self, x, src_mask):\n",
    "        x = self.self_attention(x,x,x, src_mask)\n",
    "        x = self.ffn(x)\n",
    "        return x\n",
    "        "
   ]
  },
  {
   "cell_type": "code",
   "execution_count": 9,
   "id": "76fc0f9f-9bd9-46fd-bf97-252db0d43f3b",
   "metadata": {},
   "outputs": [],
   "source": [
    "class FFNLayer(nn.Module):\n",
    "    def __init__(self, d_model, d_ff, dropout):\n",
    "        super(FFNLayer,self).__init__()\n",
    "        self.fc1 = nn.Linear(d_model, d_ff)\n",
    "        self.relu = nn.ReLU()\n",
    "        self.fc2 = nn.Linear(d_ff,d_model)\n",
    "        self.dropout = nn.Dropout(dropout)\n",
    "        self.layer_norm = nn.LayerNorm(d_model)\n",
    "\n",
    "    def forward(self, x):\n",
    "        out = self.fc1(x)\n",
    "        out = self.relu(out)\n",
    "        out = self.fc2(out)\n",
    "        out = self.dropout(out)\n",
    "        out = out +x \n",
    "        out = self.layer_norm(out)\n",
    "        return out\n",
    "        "
   ]
  },
  {
   "cell_type": "code",
   "execution_count": 10,
   "id": "665f65c7-20e9-4470-8200-e250c8e905c8",
   "metadata": {},
   "outputs": [],
   "source": [
    "class AttentionLayer(nn.Module):\n",
    "    def __init__(self,d_model, n_head, dropout):\n",
    "        super(AttentionLayer, self).__init__()\n",
    "        self.mha = MultiHeadAttention(d_model, n_head)\n",
    "        self.layer_norm = nn.LayerNorm(d_model)\n",
    "        self.dropout = nn.Dropout(dropout)\n",
    "\n",
    "    def forward(self, q,k,v, mask):\n",
    "        out = self.mha(q,k,v, mask)\n",
    "        out = self.dropout(out)\n",
    "        out = out+q\n",
    "        out = self.layer_norm(out)\n",
    "        return out\n",
    "       \n",
    "       "
   ]
  },
  {
   "cell_type": "code",
   "execution_count": 11,
   "id": "38690a95-7522-4f14-b10f-a35e15e0b2e7",
   "metadata": {},
   "outputs": [],
   "source": [
    "class MultiHeadAttention(nn.Module):\n",
    "    def __init__(self, d_model, n_head):\n",
    "        super().__init__()\n",
    "        self.n_head = n_head\n",
    "        self.d_k = d_model // n_head\n",
    "        \n",
    "        self.q_proj = nn.Linear(d_model, d_model)\n",
    "        self.k_proj = nn.Linear(d_model, d_model)\n",
    "        self.v_proj = nn.Linear(d_model, d_model)\n",
    "        self.out_proj = nn.Linear(d_model, d_model)\n",
    "\n",
    "    def forward(self, Q, K, V, mask):\n",
    "        batch_size = Q.size(0)\n",
    "\n",
    "        q = self.q_proj(Q).view(batch_size, -1, self.n_head, self.d_k).transpose(1, 2)\n",
    "        k = self.k_proj(K).view(batch_size, -1, self.n_head, self.d_k).transpose(1, 2)\n",
    "        v = self.v_proj(V).view(batch_size, -1, self.n_head, self.d_k).transpose(1, 2)\n",
    "\n",
    "        scores = torch.matmul(q, k.transpose(-2, -1)) / math.sqrt(self.d_k)\n",
    "        if mask is not None:\n",
    "            scores = scores.masked_fill(mask, -1e9)\n",
    "        p_attn = scores.softmax(dim=-1)\n",
    "        attention_output = torch.matmul(p_attn, v)\n",
    "        attention_output = attention_output.transpose(1, 2).contiguous().view(batch_size, -1, self.n_head * self.d_k)\n",
    "        return self.out_proj(attention_output)\n",
    "\n",
    "        "
   ]
  },
  {
   "cell_type": "code",
   "execution_count": 12,
   "id": "7f5f8d74-830f-47d9-9eff-83a9718fc2ed",
   "metadata": {},
   "outputs": [],
   "source": [
    "def create_masks(src_batch, tgt_batch, pad_token_id, device):\n",
    "    src_mask = (src_batch == pad_token_id).unsqueeze(1).unsqueeze(2)\n",
    "    tgt_pad_mask = (tgt_batch == pad_token_id).unsqueeze(1).unsqueeze(2)\n",
    "    tgt_len = tgt_batch.size(1)\n",
    "    tgt_causal_mask = torch.triu(torch.ones((tgt_len, tgt_len), device=device), diagonal=1).bool()\n",
    "    tgt_mask = tgt_pad_mask | tgt_causal_mask\n",
    "    return src_mask.to(device), tgt_mask.to(device)"
   ]
  },
  {
   "cell_type": "code",
   "execution_count": 13,
   "id": "7d7e8a6a-15b7-4ae6-ad28-f1640cd55772",
   "metadata": {},
   "outputs": [],
   "source": [
    "def train_epoch(model, dataloader, optimizer, criterion, pad_token_id, device):\n",
    "    model.train()\n",
    "    total_loss = 0\n",
    "    progress_bar = tqdm(dataloader, desc='Training', leave=False)\n",
    "    for batch in progress_bar:\n",
    "        batch = {k: v.to(device) for k, v in batch.items()}\n",
    "        src = batch['input_ids']\n",
    "        labels = batch['labels']\n",
    "        \n",
    "        tgt = labels.clone()\n",
    "        tgt[tgt == -100] = pad_token_id \n",
    "        shifted_tgt = torch.full_like(tgt, pad_token_id)\n",
    "        shifted_tgt[:, 1:] = tgt[:, :-1]\n",
    "        tgt = shifted_tgt\n",
    "        \n",
    "        src_mask, tgt_mask = create_masks(src, tgt, pad_token_id, device)\n",
    "        \n",
    "        optimizer.zero_grad()\n",
    "        output = model(src, tgt, src_mask, tgt_mask)\n",
    "        \n",
    "        output_flat = output.view(-1, output.shape[-1])\n",
    "        labels_flat = labels.view(-1)\n",
    "        loss = criterion(output_flat, labels_flat)\n",
    "        \n",
    "        loss.backward()\n",
    "        torch.nn.utils.clip_grad_norm_(model.parameters(), 1.0)\n",
    "        optimizer.step()\n",
    "        \n",
    "        total_loss += loss.item()\n",
    "        progress_bar.set_postfix(loss=loss.item())\n",
    "        \n",
    "    return total_loss / len(dataloader)"
   ]
  },
  {
   "cell_type": "code",
   "execution_count": 14,
   "id": "59b6c96e-9174-4ab4-b501-00eee0ddeaee",
   "metadata": {},
   "outputs": [],
   "source": [
    "def evaluate(model, dataloader, criterion, pad_token_id, device):\n",
    "    model.eval()\n",
    "    total_loss = 0\n",
    "    progress_bar = tqdm(dataloader, desc='Evaluating', leave=False)\n",
    "    with torch.no_grad():\n",
    "        for batch in progress_bar:\n",
    "            batch = {k: v.to(device) for k, v in batch.items()}\n",
    "            src = batch['input_ids']\n",
    "            labels = batch['labels']\n",
    "            \n",
    "            tgt = labels.clone()\n",
    "            tgt[tgt == -100] = pad_token_id \n",
    "            shifted_tgt = torch.full_like(tgt, pad_token_id)\n",
    "            shifted_tgt[:, 1:] = tgt[:, :-1]\n",
    "            tgt = shifted_tgt\n",
    "            \n",
    "            src_mask, tgt_mask = create_masks(src, tgt, pad_token_id, device)\n",
    "            \n",
    "            output = model(src, tgt, src_mask, tgt_mask)\n",
    "            output_flat = output.view(-1, output.shape[-1])\n",
    "            labels_flat = labels.view(-1)\n",
    "            loss = criterion(output_flat, labels_flat)\n",
    "            total_loss += loss.item()\n",
    "            progress_bar.set_postfix(loss=loss.item())\n",
    "            \n",
    "    return total_loss / len(dataloader)    "
   ]
  },
  {
   "cell_type": "code",
   "execution_count": 15,
   "id": "4abddedc-8529-470a-ae22-0fcdcba37a56",
   "metadata": {},
   "outputs": [],
   "source": [
    "dataset = load_dataset(\"iwslt2017\", \"iwslt2017-en-it\")\n",
    "\n",
    "tokenizer = AutoTokenizer.from_pretrained(\"t5-small\")\n"
   ]
  },
  {
   "cell_type": "code",
   "execution_count": 16,
   "id": "e530e819-8506-45a0-a4f7-7c09cf0a77aa",
   "metadata": {},
   "outputs": [],
   "source": [
    "def preprocess(examples):\n",
    "    src_texts = [ex['en'] for ex in examples['translation']]\n",
    "    tgt_texts = [ex['it'] for ex in examples['translation']]\n",
    "    \n",
    "    model_inputs = tokenizer(\n",
    "        src_texts,\n",
    "        text_target=tgt_texts,\n",
    "        truncation=True,\n",
    "        max_length=MAX_LEN\n",
    "    )\n",
    "    return model_inputs\n",
    "\n",
    "tokenized_dataset = dataset.map(preprocess, batched=True, remove_columns=dataset[\"train\"].column_names)\n"
   ]
  },
  {
   "cell_type": "code",
   "execution_count": 17,
   "id": "70e87365-ec2f-4b0f-bbf7-31a959e152c8",
   "metadata": {},
   "outputs": [],
   "source": [
    "data_collator = DataCollatorForSeq2Seq(tokenizer, padding=True, return_tensors = \"pt\")\n",
    "\n",
    "train_data = tokenized_dataset[\"train\"].shuffle(seed=42)\n",
    "valid_data = tokenized_dataset[\"validation\"]\n",
    "\n",
    "train_loader = DataLoader(train_data, batch_size=BATCH_SIZE, shuffle=True, collate_fn=data_collator)\n",
    "valid_loader = DataLoader(valid_data, batch_size=BATCH_SIZE, collate_fn=data_collator)"
   ]
  },
  {
   "cell_type": "code",
   "execution_count": 18,
   "id": "c183ff68-b15d-4379-976b-f5774df2887d",
   "metadata": {},
   "outputs": [
    {
     "name": "stdout",
     "output_type": "stream",
     "text": [
      "Model has 23,840,100 trainable parameters.\n",
      "Starting training...\n"
     ]
    },
    {
     "name": "stderr",
     "output_type": "stream",
     "text": [
      "/home/malakh/Documents/Python/deeplearning/deeplearning/lib/python3.12/site-packages/torch/optim/lr_scheduler.py:62: UserWarning: The verbose parameter is deprecated. Please use get_last_lr() to access the learning rate.\n",
      "  warnings.warn(\n"
     ]
    },
    {
     "data": {
      "application/vnd.jupyter.widget-view+json": {
       "model_id": "fef3b11c2c9246de8e7f076514fe6dfd",
       "version_major": 2,
       "version_minor": 0
      },
      "text/plain": [
       "Epochs:   0%|          | 0/70 [00:00<?, ?it/s]"
      ]
     },
     "metadata": {},
     "output_type": "display_data"
    },
    {
     "data": {
      "application/vnd.jupyter.widget-view+json": {
       "model_id": "6a8379f519a542569cd8c4c3dc259256",
       "version_major": 2,
       "version_minor": 0
      },
      "text/plain": [
       "Training:   0%|          | 0/3620 [00:00<?, ?it/s]"
      ]
     },
     "metadata": {},
     "output_type": "display_data"
    },
    {
     "data": {
      "application/vnd.jupyter.widget-view+json": {
       "model_id": "6ed1242892bd4aa4bc72314036fa7495",
       "version_major": 2,
       "version_minor": 0
      },
      "text/plain": [
       "Evaluating:   0%|          | 0/15 [00:00<?, ?it/s]"
      ]
     },
     "metadata": {},
     "output_type": "display_data"
    },
    {
     "name": "stdout",
     "output_type": "stream",
     "text": [
      "--- Epoch 1/70 | Time: 11m 52s ---\n",
      "\tTrain Loss: 3.7457\n",
      "\tValid Loss: 2.9405\n",
      "\t-> Saved best model (based on validation loss)\n"
     ]
    },
    {
     "data": {
      "application/vnd.jupyter.widget-view+json": {
       "model_id": "3f9b462c23104dd9bfb37eb5745fdb1b",
       "version_major": 2,
       "version_minor": 0
      },
      "text/plain": [
       "Training:   0%|          | 0/3620 [00:00<?, ?it/s]"
      ]
     },
     "metadata": {},
     "output_type": "display_data"
    },
    {
     "data": {
      "application/vnd.jupyter.widget-view+json": {
       "model_id": "9717e6ed91094fd0b234a18c1228b21e",
       "version_major": 2,
       "version_minor": 0
      },
      "text/plain": [
       "Evaluating:   0%|          | 0/15 [00:00<?, ?it/s]"
      ]
     },
     "metadata": {},
     "output_type": "display_data"
    },
    {
     "name": "stdout",
     "output_type": "stream",
     "text": [
      "--- Epoch 2/70 | Time: 11m 57s ---\n",
      "\tTrain Loss: 2.7747\n",
      "\tValid Loss: 2.5316\n",
      "\t-> Saved best model (based on validation loss)\n"
     ]
    },
    {
     "data": {
      "application/vnd.jupyter.widget-view+json": {
       "model_id": "760052ca7e4b444c85edefd5b847d239",
       "version_major": 2,
       "version_minor": 0
      },
      "text/plain": [
       "Training:   0%|          | 0/3620 [00:00<?, ?it/s]"
      ]
     },
     "metadata": {},
     "output_type": "display_data"
    },
    {
     "data": {
      "application/vnd.jupyter.widget-view+json": {
       "model_id": "fea52496a16141ce8d15ab08863d991d",
       "version_major": 2,
       "version_minor": 0
      },
      "text/plain": [
       "Evaluating:   0%|          | 0/15 [00:00<?, ?it/s]"
      ]
     },
     "metadata": {},
     "output_type": "display_data"
    },
    {
     "name": "stdout",
     "output_type": "stream",
     "text": [
      "--- Epoch 3/70 | Time: 12m 5s ---\n",
      "\tTrain Loss: 2.3847\n",
      "\tValid Loss: 2.1488\n",
      "\t-> Saved best model (based on validation loss)\n"
     ]
    },
    {
     "data": {
      "application/vnd.jupyter.widget-view+json": {
       "model_id": "45b571c7db004c638644c32e3188b366",
       "version_major": 2,
       "version_minor": 0
      },
      "text/plain": [
       "Training:   0%|          | 0/3620 [00:00<?, ?it/s]"
      ]
     },
     "metadata": {},
     "output_type": "display_data"
    },
    {
     "data": {
      "application/vnd.jupyter.widget-view+json": {
       "model_id": "ebdb402a9a184e19a17d40df071810c2",
       "version_major": 2,
       "version_minor": 0
      },
      "text/plain": [
       "Evaluating:   0%|          | 0/15 [00:00<?, ?it/s]"
      ]
     },
     "metadata": {},
     "output_type": "display_data"
    },
    {
     "name": "stdout",
     "output_type": "stream",
     "text": [
      "--- Epoch 4/70 | Time: 12m 6s ---\n",
      "\tTrain Loss: 2.0488\n",
      "\tValid Loss: 1.8958\n",
      "\t-> Saved best model (based on validation loss)\n"
     ]
    },
    {
     "data": {
      "application/vnd.jupyter.widget-view+json": {
       "model_id": "3e81b53d3d6543079bee850bf4b5529a",
       "version_major": 2,
       "version_minor": 0
      },
      "text/plain": [
       "Training:   0%|          | 0/3620 [00:00<?, ?it/s]"
      ]
     },
     "metadata": {},
     "output_type": "display_data"
    },
    {
     "data": {
      "application/vnd.jupyter.widget-view+json": {
       "model_id": "acdcbddf42d74da8ac95f8c1846cbb5e",
       "version_major": 2,
       "version_minor": 0
      },
      "text/plain": [
       "Evaluating:   0%|          | 0/15 [00:00<?, ?it/s]"
      ]
     },
     "metadata": {},
     "output_type": "display_data"
    },
    {
     "name": "stdout",
     "output_type": "stream",
     "text": [
      "--- Epoch 5/70 | Time: 12m 5s ---\n",
      "\tTrain Loss: 1.8070\n",
      "\tValid Loss: 1.7021\n",
      "\t-> Saved best model (based on validation loss)\n"
     ]
    },
    {
     "data": {
      "application/vnd.jupyter.widget-view+json": {
       "model_id": "67f8129c2a1b4afdb9446c2eb713d02d",
       "version_major": 2,
       "version_minor": 0
      },
      "text/plain": [
       "Training:   0%|          | 0/3620 [00:00<?, ?it/s]"
      ]
     },
     "metadata": {},
     "output_type": "display_data"
    },
    {
     "data": {
      "application/vnd.jupyter.widget-view+json": {
       "model_id": "77fe40caeafb42028e8762ac63c74d33",
       "version_major": 2,
       "version_minor": 0
      },
      "text/plain": [
       "Evaluating:   0%|          | 0/15 [00:00<?, ?it/s]"
      ]
     },
     "metadata": {},
     "output_type": "display_data"
    },
    {
     "name": "stdout",
     "output_type": "stream",
     "text": [
      "--- Epoch 6/70 | Time: 12m 6s ---\n",
      "\tTrain Loss: 1.6399\n",
      "\tValid Loss: 1.5903\n",
      "\t-> Saved best model (based on validation loss)\n"
     ]
    },
    {
     "data": {
      "application/vnd.jupyter.widget-view+json": {
       "model_id": "bfb175d6f2854bf993ee70ca701e6905",
       "version_major": 2,
       "version_minor": 0
      },
      "text/plain": [
       "Training:   0%|          | 0/3620 [00:00<?, ?it/s]"
      ]
     },
     "metadata": {},
     "output_type": "display_data"
    },
    {
     "data": {
      "application/vnd.jupyter.widget-view+json": {
       "model_id": "7789c0070cdf47cca2fb2d001fc85e4f",
       "version_major": 2,
       "version_minor": 0
      },
      "text/plain": [
       "Evaluating:   0%|          | 0/15 [00:00<?, ?it/s]"
      ]
     },
     "metadata": {},
     "output_type": "display_data"
    },
    {
     "name": "stdout",
     "output_type": "stream",
     "text": [
      "--- Epoch 7/70 | Time: 12m 13s ---\n",
      "\tTrain Loss: 1.5215\n",
      "\tValid Loss: 1.4908\n",
      "\t-> Saved best model (based on validation loss)\n"
     ]
    },
    {
     "data": {
      "application/vnd.jupyter.widget-view+json": {
       "model_id": "f3f8baabfd384a96a08a23dfb082dd50",
       "version_major": 2,
       "version_minor": 0
      },
      "text/plain": [
       "Training:   0%|          | 0/3620 [00:00<?, ?it/s]"
      ]
     },
     "metadata": {},
     "output_type": "display_data"
    },
    {
     "data": {
      "application/vnd.jupyter.widget-view+json": {
       "model_id": "15a318563964469d8130549c6b9806c3",
       "version_major": 2,
       "version_minor": 0
      },
      "text/plain": [
       "Evaluating:   0%|          | 0/15 [00:00<?, ?it/s]"
      ]
     },
     "metadata": {},
     "output_type": "display_data"
    },
    {
     "name": "stdout",
     "output_type": "stream",
     "text": [
      "--- Epoch 8/70 | Time: 12m 25s ---\n",
      "\tTrain Loss: 1.4320\n",
      "\tValid Loss: 1.4284\n",
      "\t-> Saved best model (based on validation loss)\n"
     ]
    },
    {
     "data": {
      "application/vnd.jupyter.widget-view+json": {
       "model_id": "ff614eeba309420fbf76172cfb956f20",
       "version_major": 2,
       "version_minor": 0
      },
      "text/plain": [
       "Training:   0%|          | 0/3620 [00:00<?, ?it/s]"
      ]
     },
     "metadata": {},
     "output_type": "display_data"
    },
    {
     "data": {
      "application/vnd.jupyter.widget-view+json": {
       "model_id": "9507708db5654b25a76c1a7f93d468ed",
       "version_major": 2,
       "version_minor": 0
      },
      "text/plain": [
       "Evaluating:   0%|          | 0/15 [00:00<?, ?it/s]"
      ]
     },
     "metadata": {},
     "output_type": "display_data"
    },
    {
     "name": "stdout",
     "output_type": "stream",
     "text": [
      "--- Epoch 9/70 | Time: 12m 52s ---\n",
      "\tTrain Loss: 1.3616\n",
      "\tValid Loss: 1.3831\n",
      "\t-> Saved best model (based on validation loss)\n"
     ]
    },
    {
     "data": {
      "application/vnd.jupyter.widget-view+json": {
       "model_id": "793fe1a0354848968da5f341c946a982",
       "version_major": 2,
       "version_minor": 0
      },
      "text/plain": [
       "Training:   0%|          | 0/3620 [00:00<?, ?it/s]"
      ]
     },
     "metadata": {},
     "output_type": "display_data"
    },
    {
     "data": {
      "application/vnd.jupyter.widget-view+json": {
       "model_id": "939dc184a7e7418fae6385f7c8c0a28e",
       "version_major": 2,
       "version_minor": 0
      },
      "text/plain": [
       "Evaluating:   0%|          | 0/15 [00:00<?, ?it/s]"
      ]
     },
     "metadata": {},
     "output_type": "display_data"
    },
    {
     "name": "stdout",
     "output_type": "stream",
     "text": [
      "--- Epoch 10/70 | Time: 13m 1s ---\n",
      "\tTrain Loss: 1.3038\n",
      "\tValid Loss: 1.3437\n",
      "\t-> Saved best model (based on validation loss)\n"
     ]
    },
    {
     "data": {
      "application/vnd.jupyter.widget-view+json": {
       "model_id": "8b0cfa7f0a86466b8a2ac4cd3666714a",
       "version_major": 2,
       "version_minor": 0
      },
      "text/plain": [
       "Training:   0%|          | 0/3620 [00:00<?, ?it/s]"
      ]
     },
     "metadata": {},
     "output_type": "display_data"
    },
    {
     "data": {
      "application/vnd.jupyter.widget-view+json": {
       "model_id": "5be36db2ebdf4118963c010f2babd236",
       "version_major": 2,
       "version_minor": 0
      },
      "text/plain": [
       "Evaluating:   0%|          | 0/15 [00:00<?, ?it/s]"
      ]
     },
     "metadata": {},
     "output_type": "display_data"
    },
    {
     "name": "stdout",
     "output_type": "stream",
     "text": [
      "--- Epoch 11/70 | Time: 12m 39s ---\n",
      "\tTrain Loss: 1.2555\n",
      "\tValid Loss: 1.3109\n",
      "\t-> Saved best model (based on validation loss)\n"
     ]
    },
    {
     "data": {
      "application/vnd.jupyter.widget-view+json": {
       "model_id": "4e4b749e87ed4e6c971a74fc6c0f0853",
       "version_major": 2,
       "version_minor": 0
      },
      "text/plain": [
       "Training:   0%|          | 0/3620 [00:00<?, ?it/s]"
      ]
     },
     "metadata": {},
     "output_type": "display_data"
    },
    {
     "data": {
      "application/vnd.jupyter.widget-view+json": {
       "model_id": "d44ec95a19344aea99d9fd9374fd5967",
       "version_major": 2,
       "version_minor": 0
      },
      "text/plain": [
       "Evaluating:   0%|          | 0/15 [00:00<?, ?it/s]"
      ]
     },
     "metadata": {},
     "output_type": "display_data"
    },
    {
     "name": "stdout",
     "output_type": "stream",
     "text": [
      "--- Epoch 12/70 | Time: 12m 28s ---\n",
      "\tTrain Loss: 1.2142\n",
      "\tValid Loss: 1.2838\n",
      "\t-> Saved best model (based on validation loss)\n"
     ]
    },
    {
     "data": {
      "application/vnd.jupyter.widget-view+json": {
       "model_id": "0f41dd296f9f41918c841919f40be590",
       "version_major": 2,
       "version_minor": 0
      },
      "text/plain": [
       "Training:   0%|          | 0/3620 [00:00<?, ?it/s]"
      ]
     },
     "metadata": {},
     "output_type": "display_data"
    },
    {
     "data": {
      "application/vnd.jupyter.widget-view+json": {
       "model_id": "d488a458aeb546a3a4a5465b9cd37a80",
       "version_major": 2,
       "version_minor": 0
      },
      "text/plain": [
       "Evaluating:   0%|          | 0/15 [00:00<?, ?it/s]"
      ]
     },
     "metadata": {},
     "output_type": "display_data"
    },
    {
     "name": "stdout",
     "output_type": "stream",
     "text": [
      "--- Epoch 13/70 | Time: 12m 20s ---\n",
      "\tTrain Loss: 1.1782\n",
      "\tValid Loss: 1.2572\n",
      "\t-> Saved best model (based on validation loss)\n"
     ]
    },
    {
     "data": {
      "application/vnd.jupyter.widget-view+json": {
       "model_id": "42f90cd2b2ff456fadb95c1aa4ab4689",
       "version_major": 2,
       "version_minor": 0
      },
      "text/plain": [
       "Training:   0%|          | 0/3620 [00:00<?, ?it/s]"
      ]
     },
     "metadata": {},
     "output_type": "display_data"
    },
    {
     "data": {
      "application/vnd.jupyter.widget-view+json": {
       "model_id": "4e4cc5df3c4d4e9f80a2366563600611",
       "version_major": 2,
       "version_minor": 0
      },
      "text/plain": [
       "Evaluating:   0%|          | 0/15 [00:00<?, ?it/s]"
      ]
     },
     "metadata": {},
     "output_type": "display_data"
    },
    {
     "name": "stdout",
     "output_type": "stream",
     "text": [
      "--- Epoch 14/70 | Time: 12m 15s ---\n",
      "\tTrain Loss: 1.1471\n",
      "\tValid Loss: 1.2389\n",
      "\t-> Saved best model (based on validation loss)\n"
     ]
    },
    {
     "data": {
      "application/vnd.jupyter.widget-view+json": {
       "model_id": "2a4093fc9fdb4f588c1171a5abb4f46d",
       "version_major": 2,
       "version_minor": 0
      },
      "text/plain": [
       "Training:   0%|          | 0/3620 [00:00<?, ?it/s]"
      ]
     },
     "metadata": {},
     "output_type": "display_data"
    },
    {
     "data": {
      "application/vnd.jupyter.widget-view+json": {
       "model_id": "07cfa79bd9d0487096391c8a556789e2",
       "version_major": 2,
       "version_minor": 0
      },
      "text/plain": [
       "Evaluating:   0%|          | 0/15 [00:00<?, ?it/s]"
      ]
     },
     "metadata": {},
     "output_type": "display_data"
    },
    {
     "name": "stdout",
     "output_type": "stream",
     "text": [
      "--- Epoch 15/70 | Time: 12m 14s ---\n",
      "\tTrain Loss: 1.1197\n",
      "\tValid Loss: 1.2258\n",
      "\t-> Saved best model (based on validation loss)\n"
     ]
    },
    {
     "data": {
      "application/vnd.jupyter.widget-view+json": {
       "model_id": "97f5875bd7d543a788d441691f603967",
       "version_major": 2,
       "version_minor": 0
      },
      "text/plain": [
       "Training:   0%|          | 0/3620 [00:00<?, ?it/s]"
      ]
     },
     "metadata": {},
     "output_type": "display_data"
    },
    {
     "data": {
      "application/vnd.jupyter.widget-view+json": {
       "model_id": "f7feba4c31c74e54847a09b3c53a0f77",
       "version_major": 2,
       "version_minor": 0
      },
      "text/plain": [
       "Evaluating:   0%|          | 0/15 [00:00<?, ?it/s]"
      ]
     },
     "metadata": {},
     "output_type": "display_data"
    },
    {
     "name": "stdout",
     "output_type": "stream",
     "text": [
      "--- Epoch 16/70 | Time: 12m 12s ---\n",
      "\tTrain Loss: 1.0964\n",
      "\tValid Loss: 1.2165\n",
      "\t-> Saved best model (based on validation loss)\n"
     ]
    },
    {
     "data": {
      "application/vnd.jupyter.widget-view+json": {
       "model_id": "ae6076dd81d54c01abadb9c8694ca08c",
       "version_major": 2,
       "version_minor": 0
      },
      "text/plain": [
       "Training:   0%|          | 0/3620 [00:00<?, ?it/s]"
      ]
     },
     "metadata": {},
     "output_type": "display_data"
    },
    {
     "data": {
      "application/vnd.jupyter.widget-view+json": {
       "model_id": "967cf7b5e8034eaa80968a70d0661399",
       "version_major": 2,
       "version_minor": 0
      },
      "text/plain": [
       "Evaluating:   0%|          | 0/15 [00:00<?, ?it/s]"
      ]
     },
     "metadata": {},
     "output_type": "display_data"
    },
    {
     "name": "stdout",
     "output_type": "stream",
     "text": [
      "--- Epoch 17/70 | Time: 12m 9s ---\n",
      "\tTrain Loss: 1.0743\n",
      "\tValid Loss: 1.2060\n",
      "\t-> Saved best model (based on validation loss)\n"
     ]
    },
    {
     "data": {
      "application/vnd.jupyter.widget-view+json": {
       "model_id": "db1e1f409fc540ee8542ebaaed5a4082",
       "version_major": 2,
       "version_minor": 0
      },
      "text/plain": [
       "Training:   0%|          | 0/3620 [00:00<?, ?it/s]"
      ]
     },
     "metadata": {},
     "output_type": "display_data"
    },
    {
     "data": {
      "application/vnd.jupyter.widget-view+json": {
       "model_id": "66db095db5f64f898412e7df6ca1a931",
       "version_major": 2,
       "version_minor": 0
      },
      "text/plain": [
       "Evaluating:   0%|          | 0/15 [00:00<?, ?it/s]"
      ]
     },
     "metadata": {},
     "output_type": "display_data"
    },
    {
     "name": "stdout",
     "output_type": "stream",
     "text": [
      "--- Epoch 18/70 | Time: 12m 10s ---\n",
      "\tTrain Loss: 1.0544\n",
      "\tValid Loss: 1.1907\n",
      "\t-> Saved best model (based on validation loss)\n"
     ]
    },
    {
     "data": {
      "application/vnd.jupyter.widget-view+json": {
       "model_id": "087ebb43b5374800868c8bb4209e72da",
       "version_major": 2,
       "version_minor": 0
      },
      "text/plain": [
       "Training:   0%|          | 0/3620 [00:00<?, ?it/s]"
      ]
     },
     "metadata": {},
     "output_type": "display_data"
    },
    {
     "data": {
      "application/vnd.jupyter.widget-view+json": {
       "model_id": "915d9286297f4e448f76ea542ce65251",
       "version_major": 2,
       "version_minor": 0
      },
      "text/plain": [
       "Evaluating:   0%|          | 0/15 [00:00<?, ?it/s]"
      ]
     },
     "metadata": {},
     "output_type": "display_data"
    },
    {
     "name": "stdout",
     "output_type": "stream",
     "text": [
      "--- Epoch 19/70 | Time: 12m 11s ---\n",
      "\tTrain Loss: 1.0380\n",
      "\tValid Loss: 1.1805\n",
      "\t-> Saved best model (based on validation loss)\n"
     ]
    },
    {
     "data": {
      "application/vnd.jupyter.widget-view+json": {
       "model_id": "bb2467b494414513860d617c1d4f87bf",
       "version_major": 2,
       "version_minor": 0
      },
      "text/plain": [
       "Training:   0%|          | 0/3620 [00:00<?, ?it/s]"
      ]
     },
     "metadata": {},
     "output_type": "display_data"
    },
    {
     "data": {
      "application/vnd.jupyter.widget-view+json": {
       "model_id": "fae088566d744bba8831da0add0ed757",
       "version_major": 2,
       "version_minor": 0
      },
      "text/plain": [
       "Evaluating:   0%|          | 0/15 [00:00<?, ?it/s]"
      ]
     },
     "metadata": {},
     "output_type": "display_data"
    },
    {
     "name": "stdout",
     "output_type": "stream",
     "text": [
      "--- Epoch 20/70 | Time: 12m 11s ---\n",
      "\tTrain Loss: 1.0212\n",
      "\tValid Loss: 1.1717\n",
      "\t-> Saved best model (based on validation loss)\n"
     ]
    },
    {
     "data": {
      "application/vnd.jupyter.widget-view+json": {
       "model_id": "08c8ff2aa7604530be48ec7f281e1a27",
       "version_major": 2,
       "version_minor": 0
      },
      "text/plain": [
       "Training:   0%|          | 0/3620 [00:00<?, ?it/s]"
      ]
     },
     "metadata": {},
     "output_type": "display_data"
    },
    {
     "data": {
      "application/vnd.jupyter.widget-view+json": {
       "model_id": "5aa77b055a9d4a3f9ff2d5bb4fe6ce28",
       "version_major": 2,
       "version_minor": 0
      },
      "text/plain": [
       "Evaluating:   0%|          | 0/15 [00:00<?, ?it/s]"
      ]
     },
     "metadata": {},
     "output_type": "display_data"
    },
    {
     "name": "stdout",
     "output_type": "stream",
     "text": [
      "--- Epoch 21/70 | Time: 12m 12s ---\n",
      "\tTrain Loss: 1.0055\n",
      "\tValid Loss: 1.1662\n",
      "\t-> Saved best model (based on validation loss)\n"
     ]
    },
    {
     "data": {
      "application/vnd.jupyter.widget-view+json": {
       "model_id": "a6a7abe3e2594388b7b368853ba3006c",
       "version_major": 2,
       "version_minor": 0
      },
      "text/plain": [
       "Training:   0%|          | 0/3620 [00:00<?, ?it/s]"
      ]
     },
     "metadata": {},
     "output_type": "display_data"
    },
    {
     "data": {
      "application/vnd.jupyter.widget-view+json": {
       "model_id": "c9f3e15bfc854423b95e88b735179b20",
       "version_major": 2,
       "version_minor": 0
      },
      "text/plain": [
       "Evaluating:   0%|          | 0/15 [00:00<?, ?it/s]"
      ]
     },
     "metadata": {},
     "output_type": "display_data"
    },
    {
     "name": "stdout",
     "output_type": "stream",
     "text": [
      "--- Epoch 22/70 | Time: 12m 13s ---\n",
      "\tTrain Loss: 0.9903\n",
      "\tValid Loss: 1.1581\n",
      "\t-> Saved best model (based on validation loss)\n"
     ]
    },
    {
     "data": {
      "application/vnd.jupyter.widget-view+json": {
       "model_id": "d1eedc26eb6a4e58b9d64acf1f3ac89a",
       "version_major": 2,
       "version_minor": 0
      },
      "text/plain": [
       "Training:   0%|          | 0/3620 [00:00<?, ?it/s]"
      ]
     },
     "metadata": {},
     "output_type": "display_data"
    },
    {
     "data": {
      "application/vnd.jupyter.widget-view+json": {
       "model_id": "49b9fbac046942dd8e52dcd681ab9440",
       "version_major": 2,
       "version_minor": 0
      },
      "text/plain": [
       "Evaluating:   0%|          | 0/15 [00:00<?, ?it/s]"
      ]
     },
     "metadata": {},
     "output_type": "display_data"
    },
    {
     "name": "stdout",
     "output_type": "stream",
     "text": [
      "--- Epoch 23/70 | Time: 12m 13s ---\n",
      "\tTrain Loss: 0.9768\n",
      "\tValid Loss: 1.1518\n",
      "\t-> Saved best model (based on validation loss)\n"
     ]
    },
    {
     "data": {
      "application/vnd.jupyter.widget-view+json": {
       "model_id": "5fa9d6baed584be2a53817c87cc5fced",
       "version_major": 2,
       "version_minor": 0
      },
      "text/plain": [
       "Training:   0%|          | 0/3620 [00:00<?, ?it/s]"
      ]
     },
     "metadata": {},
     "output_type": "display_data"
    },
    {
     "data": {
      "application/vnd.jupyter.widget-view+json": {
       "model_id": "437fdbdebd0c4cbba9447e1e002f82b1",
       "version_major": 2,
       "version_minor": 0
      },
      "text/plain": [
       "Evaluating:   0%|          | 0/15 [00:00<?, ?it/s]"
      ]
     },
     "metadata": {},
     "output_type": "display_data"
    },
    {
     "name": "stdout",
     "output_type": "stream",
     "text": [
      "--- Epoch 24/70 | Time: 12m 16s ---\n",
      "\tTrain Loss: 0.9642\n",
      "\tValid Loss: 1.1509\n",
      "\t-> Saved best model (based on validation loss)\n"
     ]
    },
    {
     "data": {
      "application/vnd.jupyter.widget-view+json": {
       "model_id": "9e984c51ca104e1a80e9f6af9c508c2f",
       "version_major": 2,
       "version_minor": 0
      },
      "text/plain": [
       "Training:   0%|          | 0/3620 [00:00<?, ?it/s]"
      ]
     },
     "metadata": {},
     "output_type": "display_data"
    },
    {
     "data": {
      "application/vnd.jupyter.widget-view+json": {
       "model_id": "d9b4bcc28be34257b8c6f210d8cd3c0e",
       "version_major": 2,
       "version_minor": 0
      },
      "text/plain": [
       "Evaluating:   0%|          | 0/15 [00:00<?, ?it/s]"
      ]
     },
     "metadata": {},
     "output_type": "display_data"
    },
    {
     "name": "stdout",
     "output_type": "stream",
     "text": [
      "--- Epoch 25/70 | Time: 12m 33s ---\n",
      "\tTrain Loss: 0.9526\n",
      "\tValid Loss: 1.1465\n",
      "\t-> Saved best model (based on validation loss)\n"
     ]
    },
    {
     "data": {
      "application/vnd.jupyter.widget-view+json": {
       "model_id": "ea3dc02cd7164dcb844905bd04c267e6",
       "version_major": 2,
       "version_minor": 0
      },
      "text/plain": [
       "Training:   0%|          | 0/3620 [00:00<?, ?it/s]"
      ]
     },
     "metadata": {},
     "output_type": "display_data"
    },
    {
     "data": {
      "application/vnd.jupyter.widget-view+json": {
       "model_id": "25b5b0badbfd400482ed596f3a196790",
       "version_major": 2,
       "version_minor": 0
      },
      "text/plain": [
       "Evaluating:   0%|          | 0/15 [00:00<?, ?it/s]"
      ]
     },
     "metadata": {},
     "output_type": "display_data"
    },
    {
     "name": "stdout",
     "output_type": "stream",
     "text": [
      "--- Epoch 26/70 | Time: 12m 33s ---\n",
      "\tTrain Loss: 0.9404\n",
      "\tValid Loss: 1.1421\n",
      "\t-> Saved best model (based on validation loss)\n"
     ]
    },
    {
     "data": {
      "application/vnd.jupyter.widget-view+json": {
       "model_id": "91b417a70a2c479195b4f237469c4544",
       "version_major": 2,
       "version_minor": 0
      },
      "text/plain": [
       "Training:   0%|          | 0/3620 [00:00<?, ?it/s]"
      ]
     },
     "metadata": {},
     "output_type": "display_data"
    },
    {
     "data": {
      "application/vnd.jupyter.widget-view+json": {
       "model_id": "a685720a07844ff0b8c2d4aebc8ad31a",
       "version_major": 2,
       "version_minor": 0
      },
      "text/plain": [
       "Evaluating:   0%|          | 0/15 [00:00<?, ?it/s]"
      ]
     },
     "metadata": {},
     "output_type": "display_data"
    },
    {
     "name": "stdout",
     "output_type": "stream",
     "text": [
      "--- Epoch 27/70 | Time: 12m 42s ---\n",
      "\tTrain Loss: 0.9298\n",
      "\tValid Loss: 1.1381\n",
      "\t-> Saved best model (based on validation loss)\n"
     ]
    },
    {
     "data": {
      "application/vnd.jupyter.widget-view+json": {
       "model_id": "d139ad8b5e124c24993d6e0e4a92c669",
       "version_major": 2,
       "version_minor": 0
      },
      "text/plain": [
       "Training:   0%|          | 0/3620 [00:00<?, ?it/s]"
      ]
     },
     "metadata": {},
     "output_type": "display_data"
    },
    {
     "data": {
      "application/vnd.jupyter.widget-view+json": {
       "model_id": "c123902e579944208b3abdb3ccd5e5e2",
       "version_major": 2,
       "version_minor": 0
      },
      "text/plain": [
       "Evaluating:   0%|          | 0/15 [00:00<?, ?it/s]"
      ]
     },
     "metadata": {},
     "output_type": "display_data"
    },
    {
     "name": "stdout",
     "output_type": "stream",
     "text": [
      "--- Epoch 28/70 | Time: 12m 47s ---\n",
      "\tTrain Loss: 0.9202\n",
      "\tValid Loss: 1.1331\n",
      "\t-> Saved best model (based on validation loss)\n"
     ]
    },
    {
     "data": {
      "application/vnd.jupyter.widget-view+json": {
       "model_id": "99214fd17b0a4ddab5eb4934127cee48",
       "version_major": 2,
       "version_minor": 0
      },
      "text/plain": [
       "Training:   0%|          | 0/3620 [00:00<?, ?it/s]"
      ]
     },
     "metadata": {},
     "output_type": "display_data"
    },
    {
     "data": {
      "application/vnd.jupyter.widget-view+json": {
       "model_id": "614802b57992441582e1712fe8070f1a",
       "version_major": 2,
       "version_minor": 0
      },
      "text/plain": [
       "Evaluating:   0%|          | 0/15 [00:00<?, ?it/s]"
      ]
     },
     "metadata": {},
     "output_type": "display_data"
    },
    {
     "name": "stdout",
     "output_type": "stream",
     "text": [
      "--- Epoch 29/70 | Time: 12m 52s ---\n",
      "\tTrain Loss: 0.9109\n",
      "\tValid Loss: 1.1350\n",
      "\t-> No improvement in validation loss for 1 epoch(s).\n"
     ]
    },
    {
     "data": {
      "application/vnd.jupyter.widget-view+json": {
       "model_id": "1f6fce32f287408980fc6238a386ae8b",
       "version_major": 2,
       "version_minor": 0
      },
      "text/plain": [
       "Training:   0%|          | 0/3620 [00:00<?, ?it/s]"
      ]
     },
     "metadata": {},
     "output_type": "display_data"
    },
    {
     "data": {
      "application/vnd.jupyter.widget-view+json": {
       "model_id": "4bc41815d0f24e7f9d3ba6ae9a24ae67",
       "version_major": 2,
       "version_minor": 0
      },
      "text/plain": [
       "Evaluating:   0%|          | 0/15 [00:00<?, ?it/s]"
      ]
     },
     "metadata": {},
     "output_type": "display_data"
    },
    {
     "name": "stdout",
     "output_type": "stream",
     "text": [
      "--- Epoch 30/70 | Time: 12m 33s ---\n",
      "\tTrain Loss: 0.9013\n",
      "\tValid Loss: 1.1282\n",
      "\t-> Saved best model (based on validation loss)\n"
     ]
    },
    {
     "data": {
      "application/vnd.jupyter.widget-view+json": {
       "model_id": "2b2d45099fd349719920b6a2309063a1",
       "version_major": 2,
       "version_minor": 0
      },
      "text/plain": [
       "Training:   0%|          | 0/3620 [00:00<?, ?it/s]"
      ]
     },
     "metadata": {},
     "output_type": "display_data"
    },
    {
     "data": {
      "application/vnd.jupyter.widget-view+json": {
       "model_id": "f1ba5b4a5ff74bba878daa878dfcd79e",
       "version_major": 2,
       "version_minor": 0
      },
      "text/plain": [
       "Evaluating:   0%|          | 0/15 [00:00<?, ?it/s]"
      ]
     },
     "metadata": {},
     "output_type": "display_data"
    },
    {
     "name": "stdout",
     "output_type": "stream",
     "text": [
      "--- Epoch 31/70 | Time: 12m 15s ---\n",
      "\tTrain Loss: 0.8929\n",
      "\tValid Loss: 1.1262\n",
      "\t-> Saved best model (based on validation loss)\n"
     ]
    },
    {
     "data": {
      "application/vnd.jupyter.widget-view+json": {
       "model_id": "9424d258f91a4503b95337312d2974dc",
       "version_major": 2,
       "version_minor": 0
      },
      "text/plain": [
       "Training:   0%|          | 0/3620 [00:00<?, ?it/s]"
      ]
     },
     "metadata": {},
     "output_type": "display_data"
    },
    {
     "data": {
      "application/vnd.jupyter.widget-view+json": {
       "model_id": "03ad634402274b2a8c003fc98ca119b5",
       "version_major": 2,
       "version_minor": 0
      },
      "text/plain": [
       "Evaluating:   0%|          | 0/15 [00:00<?, ?it/s]"
      ]
     },
     "metadata": {},
     "output_type": "display_data"
    },
    {
     "name": "stdout",
     "output_type": "stream",
     "text": [
      "--- Epoch 32/70 | Time: 12m 10s ---\n",
      "\tTrain Loss: 0.8843\n",
      "\tValid Loss: 1.1211\n",
      "\t-> Saved best model (based on validation loss)\n"
     ]
    },
    {
     "data": {
      "application/vnd.jupyter.widget-view+json": {
       "model_id": "739a8df3bfe846f88adb7e37129998d9",
       "version_major": 2,
       "version_minor": 0
      },
      "text/plain": [
       "Training:   0%|          | 0/3620 [00:00<?, ?it/s]"
      ]
     },
     "metadata": {},
     "output_type": "display_data"
    },
    {
     "data": {
      "application/vnd.jupyter.widget-view+json": {
       "model_id": "3f6d2681c4c442eaa936158702978631",
       "version_major": 2,
       "version_minor": 0
      },
      "text/plain": [
       "Evaluating:   0%|          | 0/15 [00:00<?, ?it/s]"
      ]
     },
     "metadata": {},
     "output_type": "display_data"
    },
    {
     "name": "stdout",
     "output_type": "stream",
     "text": [
      "--- Epoch 33/70 | Time: 12m 10s ---\n",
      "\tTrain Loss: 0.8762\n",
      "\tValid Loss: 1.1228\n",
      "\t-> No improvement in validation loss for 1 epoch(s).\n"
     ]
    },
    {
     "data": {
      "application/vnd.jupyter.widget-view+json": {
       "model_id": "e61e89a772cc470cab376ea4f32b7308",
       "version_major": 2,
       "version_minor": 0
      },
      "text/plain": [
       "Training:   0%|          | 0/3620 [00:00<?, ?it/s]"
      ]
     },
     "metadata": {},
     "output_type": "display_data"
    },
    {
     "data": {
      "application/vnd.jupyter.widget-view+json": {
       "model_id": "669bef63628144b992d75f69dc2ccb3e",
       "version_major": 2,
       "version_minor": 0
      },
      "text/plain": [
       "Evaluating:   0%|          | 0/15 [00:00<?, ?it/s]"
      ]
     },
     "metadata": {},
     "output_type": "display_data"
    },
    {
     "name": "stdout",
     "output_type": "stream",
     "text": [
      "--- Epoch 34/70 | Time: 12m 15s ---\n",
      "\tTrain Loss: 0.8692\n",
      "\tValid Loss: 1.1255\n",
      "\t-> No improvement in validation loss for 2 epoch(s).\n"
     ]
    },
    {
     "data": {
      "application/vnd.jupyter.widget-view+json": {
       "model_id": "c0211cdf6f3d43b7845896bcb167ad35",
       "version_major": 2,
       "version_minor": 0
      },
      "text/plain": [
       "Training:   0%|          | 0/3620 [00:00<?, ?it/s]"
      ]
     },
     "metadata": {},
     "output_type": "display_data"
    },
    {
     "data": {
      "application/vnd.jupyter.widget-view+json": {
       "model_id": "825301b937014704a7b63a46323fdd2c",
       "version_major": 2,
       "version_minor": 0
      },
      "text/plain": [
       "Evaluating:   0%|          | 0/15 [00:00<?, ?it/s]"
      ]
     },
     "metadata": {},
     "output_type": "display_data"
    },
    {
     "name": "stdout",
     "output_type": "stream",
     "text": [
      "--- Epoch 35/70 | Time: 12m 32s ---\n",
      "\tTrain Loss: 0.8622\n",
      "\tValid Loss: 1.1224\n",
      "\t-> No improvement in validation loss for 3 epoch(s).\n"
     ]
    },
    {
     "data": {
      "application/vnd.jupyter.widget-view+json": {
       "model_id": "f0b084fb836e4916b9c299e9394b0729",
       "version_major": 2,
       "version_minor": 0
      },
      "text/plain": [
       "Training:   0%|          | 0/3620 [00:00<?, ?it/s]"
      ]
     },
     "metadata": {},
     "output_type": "display_data"
    },
    {
     "data": {
      "application/vnd.jupyter.widget-view+json": {
       "model_id": "c8a2752b02324d29ba4dca58181a9c90",
       "version_major": 2,
       "version_minor": 0
      },
      "text/plain": [
       "Evaluating:   0%|          | 0/15 [00:00<?, ?it/s]"
      ]
     },
     "metadata": {},
     "output_type": "display_data"
    },
    {
     "name": "stdout",
     "output_type": "stream",
     "text": [
      "--- Epoch 36/70 | Time: 12m 37s ---\n",
      "\tTrain Loss: 0.8548\n",
      "\tValid Loss: 1.1200\n",
      "\t-> Saved best model (based on validation loss)\n"
     ]
    },
    {
     "data": {
      "application/vnd.jupyter.widget-view+json": {
       "model_id": "a409f2dcede846e8ae2613b9bc23056c",
       "version_major": 2,
       "version_minor": 0
      },
      "text/plain": [
       "Training:   0%|          | 0/3620 [00:00<?, ?it/s]"
      ]
     },
     "metadata": {},
     "output_type": "display_data"
    },
    {
     "data": {
      "application/vnd.jupyter.widget-view+json": {
       "model_id": "9c4acf6defbe43d0aa1f6f0032a9ee48",
       "version_major": 2,
       "version_minor": 0
      },
      "text/plain": [
       "Evaluating:   0%|          | 0/15 [00:00<?, ?it/s]"
      ]
     },
     "metadata": {},
     "output_type": "display_data"
    },
    {
     "name": "stdout",
     "output_type": "stream",
     "text": [
      "--- Epoch 37/70 | Time: 12m 44s ---\n",
      "\tTrain Loss: 0.8482\n",
      "\tValid Loss: 1.1206\n",
      "\t-> No improvement in validation loss for 1 epoch(s).\n"
     ]
    },
    {
     "data": {
      "application/vnd.jupyter.widget-view+json": {
       "model_id": "6449618debcd47468330b192391a00d1",
       "version_major": 2,
       "version_minor": 0
      },
      "text/plain": [
       "Training:   0%|          | 0/3620 [00:00<?, ?it/s]"
      ]
     },
     "metadata": {},
     "output_type": "display_data"
    },
    {
     "data": {
      "application/vnd.jupyter.widget-view+json": {
       "model_id": "3f55c02a0c2a49a5870a8dfeaa5b087c",
       "version_major": 2,
       "version_minor": 0
      },
      "text/plain": [
       "Evaluating:   0%|          | 0/15 [00:00<?, ?it/s]"
      ]
     },
     "metadata": {},
     "output_type": "display_data"
    },
    {
     "name": "stdout",
     "output_type": "stream",
     "text": [
      "--- Epoch 38/70 | Time: 12m 50s ---\n",
      "\tTrain Loss: 0.8423\n",
      "\tValid Loss: 1.1186\n",
      "\t-> Saved best model (based on validation loss)\n"
     ]
    },
    {
     "data": {
      "application/vnd.jupyter.widget-view+json": {
       "model_id": "bf642d57e306404aaae5272c51877c30",
       "version_major": 2,
       "version_minor": 0
      },
      "text/plain": [
       "Training:   0%|          | 0/3620 [00:00<?, ?it/s]"
      ]
     },
     "metadata": {},
     "output_type": "display_data"
    },
    {
     "data": {
      "application/vnd.jupyter.widget-view+json": {
       "model_id": "11345cf3ed5a420db7a1200a053e3183",
       "version_major": 2,
       "version_minor": 0
      },
      "text/plain": [
       "Evaluating:   0%|          | 0/15 [00:00<?, ?it/s]"
      ]
     },
     "metadata": {},
     "output_type": "display_data"
    },
    {
     "name": "stdout",
     "output_type": "stream",
     "text": [
      "--- Epoch 39/70 | Time: 13m 22s ---\n",
      "\tTrain Loss: 0.8362\n",
      "\tValid Loss: 1.1173\n",
      "\t-> Saved best model (based on validation loss)\n"
     ]
    },
    {
     "data": {
      "application/vnd.jupyter.widget-view+json": {
       "model_id": "be8747c66eca45df9fed660706e49c3e",
       "version_major": 2,
       "version_minor": 0
      },
      "text/plain": [
       "Training:   0%|          | 0/3620 [00:00<?, ?it/s]"
      ]
     },
     "metadata": {},
     "output_type": "display_data"
    },
    {
     "data": {
      "application/vnd.jupyter.widget-view+json": {
       "model_id": "17cf187a1c1b4dd58306a0dfb80ae852",
       "version_major": 2,
       "version_minor": 0
      },
      "text/plain": [
       "Evaluating:   0%|          | 0/15 [00:00<?, ?it/s]"
      ]
     },
     "metadata": {},
     "output_type": "display_data"
    },
    {
     "name": "stdout",
     "output_type": "stream",
     "text": [
      "--- Epoch 40/70 | Time: 13m 12s ---\n",
      "\tTrain Loss: 0.8301\n",
      "\tValid Loss: 1.1238\n",
      "\t-> No improvement in validation loss for 1 epoch(s).\n"
     ]
    },
    {
     "data": {
      "application/vnd.jupyter.widget-view+json": {
       "model_id": "f1e1e9b45edf4640b00e26a1eeb13c60",
       "version_major": 2,
       "version_minor": 0
      },
      "text/plain": [
       "Training:   0%|          | 0/3620 [00:00<?, ?it/s]"
      ]
     },
     "metadata": {},
     "output_type": "display_data"
    },
    {
     "data": {
      "application/vnd.jupyter.widget-view+json": {
       "model_id": "1edea61d24274964935a8b897837fc97",
       "version_major": 2,
       "version_minor": 0
      },
      "text/plain": [
       "Evaluating:   0%|          | 0/15 [00:00<?, ?it/s]"
      ]
     },
     "metadata": {},
     "output_type": "display_data"
    },
    {
     "name": "stdout",
     "output_type": "stream",
     "text": [
      "--- Epoch 41/70 | Time: 12m 56s ---\n",
      "\tTrain Loss: 0.8247\n",
      "\tValid Loss: 1.1091\n",
      "\t-> Saved best model (based on validation loss)\n"
     ]
    },
    {
     "data": {
      "application/vnd.jupyter.widget-view+json": {
       "model_id": "5b81bec1183941f19971e7daaf280048",
       "version_major": 2,
       "version_minor": 0
      },
      "text/plain": [
       "Training:   0%|          | 0/3620 [00:00<?, ?it/s]"
      ]
     },
     "metadata": {},
     "output_type": "display_data"
    },
    {
     "data": {
      "application/vnd.jupyter.widget-view+json": {
       "model_id": "eafec3d5da2a45f3be9ce7f4ad7e24cb",
       "version_major": 2,
       "version_minor": 0
      },
      "text/plain": [
       "Evaluating:   0%|          | 0/15 [00:00<?, ?it/s]"
      ]
     },
     "metadata": {},
     "output_type": "display_data"
    },
    {
     "name": "stdout",
     "output_type": "stream",
     "text": [
      "--- Epoch 42/70 | Time: 12m 54s ---\n",
      "\tTrain Loss: 0.8183\n",
      "\tValid Loss: 1.1184\n",
      "\t-> No improvement in validation loss for 1 epoch(s).\n"
     ]
    },
    {
     "data": {
      "application/vnd.jupyter.widget-view+json": {
       "model_id": "3fc027b1d71c40a88daa85fd50a9aaa9",
       "version_major": 2,
       "version_minor": 0
      },
      "text/plain": [
       "Training:   0%|          | 0/3620 [00:00<?, ?it/s]"
      ]
     },
     "metadata": {},
     "output_type": "display_data"
    },
    {
     "data": {
      "application/vnd.jupyter.widget-view+json": {
       "model_id": "02d9f2d293b94468b091c3ff2cfa84ab",
       "version_major": 2,
       "version_minor": 0
      },
      "text/plain": [
       "Evaluating:   0%|          | 0/15 [00:00<?, ?it/s]"
      ]
     },
     "metadata": {},
     "output_type": "display_data"
    },
    {
     "name": "stdout",
     "output_type": "stream",
     "text": [
      "--- Epoch 43/70 | Time: 13m 10s ---\n",
      "\tTrain Loss: 0.8138\n",
      "\tValid Loss: 1.1134\n",
      "\t-> No improvement in validation loss for 2 epoch(s).\n"
     ]
    },
    {
     "data": {
      "application/vnd.jupyter.widget-view+json": {
       "model_id": "cf48252bd04548f68a8e713f2cbae8d8",
       "version_major": 2,
       "version_minor": 0
      },
      "text/plain": [
       "Training:   0%|          | 0/3620 [00:00<?, ?it/s]"
      ]
     },
     "metadata": {},
     "output_type": "display_data"
    },
    {
     "data": {
      "application/vnd.jupyter.widget-view+json": {
       "model_id": "7d3f8e23d003473ebaf7f567179945c1",
       "version_major": 2,
       "version_minor": 0
      },
      "text/plain": [
       "Evaluating:   0%|          | 0/15 [00:00<?, ?it/s]"
      ]
     },
     "metadata": {},
     "output_type": "display_data"
    },
    {
     "name": "stdout",
     "output_type": "stream",
     "text": [
      "--- Epoch 44/70 | Time: 13m 7s ---\n",
      "\tTrain Loss: 0.8081\n",
      "\tValid Loss: 1.1127\n",
      "\t-> No improvement in validation loss for 3 epoch(s).\n"
     ]
    },
    {
     "data": {
      "application/vnd.jupyter.widget-view+json": {
       "model_id": "a27447ba275f4922954fa5f1f0487349",
       "version_major": 2,
       "version_minor": 0
      },
      "text/plain": [
       "Training:   0%|          | 0/3620 [00:00<?, ?it/s]"
      ]
     },
     "metadata": {},
     "output_type": "display_data"
    },
    {
     "data": {
      "application/vnd.jupyter.widget-view+json": {
       "model_id": "4e2e76cf92e34662ab2ce2b5e0035e04",
       "version_major": 2,
       "version_minor": 0
      },
      "text/plain": [
       "Evaluating:   0%|          | 0/15 [00:00<?, ?it/s]"
      ]
     },
     "metadata": {},
     "output_type": "display_data"
    },
    {
     "name": "stdout",
     "output_type": "stream",
     "text": [
      "--- Epoch 45/70 | Time: 13m 3s ---\n",
      "\tTrain Loss: 0.8035\n",
      "\tValid Loss: 1.1171\n",
      "\t-> No improvement in validation loss for 4 epoch(s).\n"
     ]
    },
    {
     "data": {
      "application/vnd.jupyter.widget-view+json": {
       "model_id": "8802a2330e6144558ad5bc2f9aedbdef",
       "version_major": 2,
       "version_minor": 0
      },
      "text/plain": [
       "Training:   0%|          | 0/3620 [00:00<?, ?it/s]"
      ]
     },
     "metadata": {},
     "output_type": "display_data"
    },
    {
     "data": {
      "application/vnd.jupyter.widget-view+json": {
       "model_id": "07ffdd167afc465b8653759590aa4bd5",
       "version_major": 2,
       "version_minor": 0
      },
      "text/plain": [
       "Evaluating:   0%|          | 0/15 [00:00<?, ?it/s]"
      ]
     },
     "metadata": {},
     "output_type": "display_data"
    },
    {
     "name": "stdout",
     "output_type": "stream",
     "text": [
      "--- Epoch 46/70 | Time: 12m 55s ---\n",
      "\tTrain Loss: 0.7985\n",
      "\tValid Loss: 1.1141\n",
      "\t-> No improvement in validation loss for 5 epoch(s).\n"
     ]
    },
    {
     "data": {
      "application/vnd.jupyter.widget-view+json": {
       "model_id": "42df349ead6f4380bc81159eb61a81a6",
       "version_major": 2,
       "version_minor": 0
      },
      "text/plain": [
       "Training:   0%|          | 0/3620 [00:00<?, ?it/s]"
      ]
     },
     "metadata": {},
     "output_type": "display_data"
    },
    {
     "ename": "KeyboardInterrupt",
     "evalue": "",
     "output_type": "error",
     "traceback": [
      "\u001b[31m---------------------------------------------------------------------------\u001b[39m",
      "\u001b[31mKeyboardInterrupt\u001b[39m                         Traceback (most recent call last)",
      "\u001b[36mCell\u001b[39m\u001b[36m \u001b[39m\u001b[32mIn[18]\u001b[39m\u001b[32m, line 23\u001b[39m\n\u001b[32m     20\u001b[39m \u001b[38;5;28;01mfor\u001b[39;00m epoch \u001b[38;5;129;01min\u001b[39;00m tqdm(\u001b[38;5;28mrange\u001b[39m(\u001b[32m1\u001b[39m, EPOCHS + \u001b[32m1\u001b[39m), desc=\u001b[33m\"\u001b[39m\u001b[33mEpochs\u001b[39m\u001b[33m\"\u001b[39m):\n\u001b[32m     21\u001b[39m     start_time = time.time()\n\u001b[32m---> \u001b[39m\u001b[32m23\u001b[39m     train_loss = \u001b[43mtrain_epoch\u001b[49m\u001b[43m(\u001b[49m\u001b[43mmodel\u001b[49m\u001b[43m,\u001b[49m\u001b[43m \u001b[49m\u001b[43mtrain_loader\u001b[49m\u001b[43m,\u001b[49m\u001b[43m \u001b[49m\u001b[43moptimizer\u001b[49m\u001b[43m,\u001b[49m\u001b[43m \u001b[49m\u001b[43mcriterion\u001b[49m\u001b[43m,\u001b[49m\u001b[43m \u001b[49m\u001b[43mtokenizer\u001b[49m\u001b[43m.\u001b[49m\u001b[43mpad_token_id\u001b[49m\u001b[43m,\u001b[49m\u001b[43m \u001b[49m\u001b[43mDEVICE\u001b[49m\u001b[43m)\u001b[49m\n\u001b[32m     24\u001b[39m     valid_loss = evaluate(model, valid_loader, criterion, tokenizer.pad_token_id, DEVICE)\n\u001b[32m     26\u001b[39m     scheduler.step(valid_loss) \n",
      "\u001b[36mCell\u001b[39m\u001b[36m \u001b[39m\u001b[32mIn[13]\u001b[39m\u001b[32m, line 29\u001b[39m, in \u001b[36mtrain_epoch\u001b[39m\u001b[34m(model, dataloader, optimizer, criterion, pad_token_id, device)\u001b[39m\n\u001b[32m     26\u001b[39m     torch.nn.utils.clip_grad_norm_(model.parameters(), \u001b[32m1.0\u001b[39m)\n\u001b[32m     27\u001b[39m     optimizer.step()\n\u001b[32m---> \u001b[39m\u001b[32m29\u001b[39m     total_loss += \u001b[43mloss\u001b[49m\u001b[43m.\u001b[49m\u001b[43mitem\u001b[49m\u001b[43m(\u001b[49m\u001b[43m)\u001b[49m\n\u001b[32m     30\u001b[39m     progress_bar.set_postfix(loss=loss.item())\n\u001b[32m     32\u001b[39m \u001b[38;5;28;01mreturn\u001b[39;00m total_loss / \u001b[38;5;28mlen\u001b[39m(dataloader)\n",
      "\u001b[31mKeyboardInterrupt\u001b[39m: "
     ]
    }
   ],
   "source": [
    "VOCAB_SIZE = tokenizer.vocab_size\n",
    "model = Transformer(VOCAB_SIZE, D_MODEL, D_FF, N_HEAD, N_LAYERS, DROPOUT).to(DEVICE)\n",
    "    \n",
    "criterion = nn.CrossEntropyLoss(ignore_index=-100)\n",
    "optimizer = torch.optim.Adam(model.parameters(), lr=LEARNING_RATE, betas=(0.9, 0.98), eps=1e-9)\n",
    "scheduler = torch.optim.lr_scheduler.ReduceLROnPlateau(\n",
    "    optimizer,      \n",
    "    'min',          \n",
    "    factor=0.5,     \n",
    "    patience=5,     \n",
    ")\n",
    "\n",
    "print(f\"Model has {sum(p.numel() for p in model.parameters() if p.requires_grad):,} trainable parameters.\")\n",
    "\n",
    "print(\"Starting training...\")\n",
    "best_valid_loss = float('inf')\n",
    "epochs_no_improve = 0\n",
    "\n",
    "for epoch in tqdm(range(1, EPOCHS + 1), desc=\"Epochs\"):\n",
    "    start_time = time.time()\n",
    "    \n",
    "    train_loss = train_epoch(model, train_loader, optimizer, criterion, tokenizer.pad_token_id, DEVICE)\n",
    "    valid_loss = evaluate(model, valid_loader, criterion, tokenizer.pad_token_id, DEVICE)\n",
    "\n",
    "    scheduler.step(valid_loss) \n",
    "    \n",
    "    end_time = time.time()\n",
    "    epoch_mins, epoch_secs = divmod(end_time - start_time, 60)\n",
    "    \n",
    "    print(f\"--- Epoch {epoch}/{EPOCHS} | Time: {int(epoch_mins)}m {int(epoch_secs)}s ---\")\n",
    "    print(f\"\\tTrain Loss: {train_loss:.4f}\")\n",
    "    print(f\"\\tValid Loss: {valid_loss:.4f}\")\n",
    "\n",
    "    if valid_loss < best_valid_loss:\n",
    "        best_valid_loss = valid_loss\n",
    "        torch.save(model.state_dict(), \"transformer_en_it.pt\")\n",
    "        print(\"\\t-> Saved best model (based on validation loss)\")\n",
    "        epochs_no_improve = 0\n",
    "    else:\n",
    "        epochs_no_improve += 1\n",
    "        print(f\"\\t-> No improvement in validation loss for {epochs_no_improve} epoch(s).\")\n",
    "\n",
    "    if epochs_no_improve >= PATIENCE:\n",
    "        print(f\"\\nEarly stopping triggered after {PATIENCE} epochs with no improvement.\")\n",
    "        break\n",
    "\n",
    "print(\"Training finished.\")"
   ]
  },
  {
   "cell_type": "code",
   "execution_count": 19,
   "id": "f7b1095a-1182-46ab-a7b7-b98abc64724e",
   "metadata": {},
   "outputs": [],
   "source": [
    "import torch.nn.functional as F\n",
    "\n",
    "def inference(model, tokenizer, input_text, max_len=128, temperature=0.5, device='cpu'):\n",
    "    model.to(device)\n",
    "    model.eval()\n",
    "    tokenized_input = tokenizer(input_text, return_tensors=\"pt\")\n",
    "    src = tokenized_input['input_ids'].to(device)\n",
    "\n",
    "    src_mask = (src == tokenizer.pad_token_id).unsqueeze(1).unsqueeze(2).to(device)\n",
    "    \n",
    "    output_tokens = torch.tensor([[tokenizer.pad_token_id]], device=device).long()\n",
    "\n",
    "    with torch.no_grad():\n",
    "        embedded_src = model.pos_encoder(model.embedding(src))\n",
    "        memory = model.encoder(embedded_src, src_mask)\n",
    "\n",
    "        for i in range(max_len - 1):\n",
    "            tgt_len = output_tokens.size(1)\n",
    "            tgt_mask = torch.triu(torch.ones((tgt_len, tgt_len), device=device), diagonal=1).bool()\n",
    "\n",
    "            embedded_tgt = model.pos_encoder(model.embedding(output_tokens))\n",
    "            decoding_output = model.decoder(embedded_tgt, memory, tgt_mask, src_mask)\n",
    "\n",
    "            logits = model.fc(decoding_output)\n",
    "            last_token_logits = logits[:, -1, :] \n",
    "\n",
    "            #probs = F.softmax(last_token_logits / temperature, dim=-1)\n",
    "            #pred_token = torch.multinomial(probs, num_samples=1).item()\n",
    "            pred_token = torch.argmax(last_token_logits, dim=-1).item() \n",
    "            \n",
    "            \n",
    "            if pred_token == tokenizer.eos_token_id:\n",
    "                break\n",
    "            output_tokens = torch.cat(\n",
    "                (output_tokens, torch.tensor([[pred_token]], device=device).long()), dim=1\n",
    "            )\n",
    "    return tokenizer.decode(output_tokens[0], skip_special_tokens=True)"
   ]
  },
  {
   "cell_type": "code",
   "execution_count": 20,
   "id": "d9cc5f64-be4f-4e51-a780-09fa9c6fd487",
   "metadata": {},
   "outputs": [
    {
     "name": "stdout",
     "output_type": "stream",
     "text": [
      "è un gran risultato.\n"
     ]
    }
   ],
   "source": [
    "inference_model = Transformer(VOCAB_SIZE, D_MODEL, D_FF, N_HEAD, N_LAYERS, DROPOUT)\n",
    "inference_model.load_state_dict(torch.load(\"transformer_en_it.pt\", map_location=DEVICE))\n",
    "english = \"this is a great achievement\"\n",
    "italian = inference(inference_model, tokenizer, english,device = DEVICE)\n",
    "print(italian)"
   ]
  },
  {
   "cell_type": "code",
   "execution_count": null,
   "id": "f62f9dc2-d138-4cbb-8f8c-c1986c6bc587",
   "metadata": {},
   "outputs": [],
   "source": []
  }
 ],
 "metadata": {
  "kernelspec": {
   "display_name": "Python 3 (ipykernel)",
   "language": "python",
   "name": "python3"
  },
  "language_info": {
   "codemirror_mode": {
    "name": "ipython",
    "version": 3
   },
   "file_extension": ".py",
   "mimetype": "text/x-python",
   "name": "python",
   "nbconvert_exporter": "python",
   "pygments_lexer": "ipython3",
   "version": "3.12.7"
  }
 },
 "nbformat": 4,
 "nbformat_minor": 5
}
